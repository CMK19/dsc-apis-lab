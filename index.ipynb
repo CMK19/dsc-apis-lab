{
 "cells": [
  {
   "cell_type": "markdown",
   "metadata": {},
   "source": [
    "# APIs - Cumulative Lab\n",
    "\n",
    "\n",
    "## Introduction \n",
    "\n",
    "We've seen how the Yelp API works and how to create basic visualizations using Folium. It's time to put those skills to work in order to create a working map! Taking things a step further, you'll also independently explore how to perform pagination in order to retrieve a full results set from the Yelp API.\n",
    "\n",
    "## Objectives\n",
    "\n",
    "You will be able to: \n",
    "\n",
    "* Practice using functions to organize your code\n",
    "* Use pagination to retrieve all results from an API query\n",
    "* Practice parsing data returned from an API query\n",
    "* Practice interpreting visualizations of a dataset\n",
    "* Create maps using Folium"
   ]
  },
  {
   "cell_type": "markdown",
   "metadata": {},
   "source": [
    "## Your Task: Query Yelp for All Businesses in a Category and Analyze the Results\n",
    "\n",
    "![restaurant counter with pizza](images/restaurant_counter.jpg)\n",
    "\n",
    "Photo by <a href=\"https://unsplash.com/@jordanmadrid?utm_source=unsplash&utm_medium=referral&utm_content=creditCopyText\">Jordan Madrid</a> on <a href=\"/s/photos/pizza-restaurant?utm_source=unsplash&utm_medium=referral&utm_content=creditCopyText\">Unsplash</a>"
   ]
  },
  {
   "cell_type": "markdown",
   "metadata": {},
   "source": [
    "### Overview\n",
    "\n",
    "You've now worked with some API calls, but we have yet to see how to retrieve a more complete dataset in a programmatic manner. In this lab, you will write a query of businesses on Yelp, then use *pagination* to retrieve all possible results for that query. Then you will create a summary of your findings, including a Folium map of the geographic locations of those businesses.\n",
    "\n",
    "### Technical Details\n",
    "\n",
    "Returning to the Yelp API, the [documentation](https://www.yelp.com/developers/documentation/v3/business_search) also provides us details regarding the **API limits**. These often include details about the number of requests a user is allowed to make within a specified time limit and the maximum number of results to be returned. In this case, we are told that any request has a **maximum of 50 results per request** and defaults to 20. Furthermore, any search will be limited to a **total of 1000 results**. To retrieve all 1000 of these results, we would have to page through the results piece by piece, retrieving 50 at a time. Processes such as these are often referred to as pagination.\n",
    "\n",
    "Also, be mindful of the **API** ***rate*** **limits**. You can only make **5000 requests per day** and are also can make requests too fast. Start prototyping small before running a loop that could be faulty. You can also use `time.sleep(n)` to add delays. For more details see https://www.yelp.com/developers/documentation/v3/rate_limiting.\n",
    "\n",
    "In this lab, you will define a search and then paginate over the results to retrieve all of the results. You'll then parse these responses as a list of dictionaries (for further exploration) and create a map using Folium to visualize the results geographically.\n",
    "\n",
    "### Requirements\n",
    "\n",
    "#### 1. Make the Initial Request\n",
    "\n",
    "Start by filling in your API key to make the initial request to the business search API. Investigate the structure of the response you get back and start figuring out how you will extract the relevant information.\n",
    "\n",
    "#### 2. Add Pagination\n",
    "\n",
    "Using loops and functions, collect the maximum number of results for your query from the API.\n",
    "\n",
    "#### 3. Perform Exploratory Analysis\n",
    "\n",
    "Interpret visualizations related to the price range, average rating, and number of reviews for all query results.\n",
    "\n",
    "#### 4. Create a Folium Map\n",
    "\n",
    "Using latitude and longitude data, plot the query results on an interactive map."
   ]
  },
  {
   "cell_type": "markdown",
   "metadata": {},
   "source": [
    "## 1. Make the Initial Request\n",
    "\n",
    "### Querying\n",
    "\n",
    "Start by making an initial request to the Yelp API. Your search must include at least 2 parameters: **term** and **location**. For example, you might search for pizza restaurants in NYC. The term and location is up to you but make the request below.\n",
    "\n",
    "Use the `requests` library ([documentation here](https://requests.readthedocs.io/en/master/user/quickstart/#make-a-request)).\n",
    "\n",
    "You'll also need an API key from Yelp. If you haven't done this already, go to the Yelp [Manage App page](https://www.yelp.com/developers/v3/manage_app) and create a new app (after making an account if you haven't already)."
   ]
  },
  {
   "cell_type": "code",
   "execution_count": 1,
   "metadata": {},
   "outputs": [
    {
     "name": "stdout",
     "output_type": "stream",
     "text": [
      "Collecting python-dotenv\n",
      "  Downloading python_dotenv-0.21.0-py3-none-any.whl (18 kB)\n",
      "Installing collected packages: python-dotenv\n",
      "Successfully installed python-dotenv-0.21.0\n"
     ]
    }
   ],
   "source": [
    "!pip install python-dotenv"
   ]
  },
  {
   "cell_type": "code",
   "execution_count": 2,
   "metadata": {},
   "outputs": [
    {
     "data": {
      "text/plain": [
       "<Response [200]>"
      ]
     },
     "execution_count": 2,
     "metadata": {},
     "output_type": "execute_result"
    }
   ],
   "source": [
    "# Import the requests library\n",
    "import requests\n",
    "import os\n",
    "from dotenv import load_dotenv\n",
    "load_dotenv()\n",
    "# Get this from the \"Manage App\" page. Make sure you set them\n",
    "# back to None before pushing this to GitHub, since otherwise\n",
    "# your credentials will be compromised\n",
    "api_key = os.getenv('key')\n",
    "# These can be whatever you want! But the solution uses \"pizza\"\n",
    "# and \"New York NY\" if you want to compare your work directly\n",
    "term = 'Rice'\n",
    "location = 'New York NY'\n",
    "\n",
    "# Set up params for request\n",
    "url = \"https://api.yelp.com/v3/businesses/search\"\n",
    "headers = {\n",
    "    \"Authorization\": \"Bearer {}\".format(api_key)\n",
    "}\n",
    "url_params = {\n",
    "    \"term\": term.replace(\" \", \"+\"),\n",
    "    \"location\": location.replace(\" \", \"+\")\n",
    "}\n",
    "\n",
    "# Make the request using requests.get, passing in\n",
    "# url, headers=headers, and params=url_params\n",
    "response = requests.get(url, headers=headers , params=url_params)\n",
    "\n",
    "# Confirm we got a 200 response\n",
    "response"
   ]
  },
  {
   "cell_type": "code",
   "execution_count": 3,
   "metadata": {},
   "outputs": [
    {
     "data": {
      "text/plain": [
       "dict_keys(['businesses', 'total', 'region'])"
      ]
     },
     "execution_count": 3,
     "metadata": {},
     "output_type": "execute_result"
    }
   ],
   "source": [
    "# Run this cell without changes\n",
    "\n",
    "# Get the response body in JSON format\n",
    "response_json = response.json()\n",
    "# View the keys\n",
    "response_json.keys()"
   ]
  },
  {
   "cell_type": "markdown",
   "metadata": {},
   "source": [
    "### Extracting Data\n",
    "\n",
    "Now, retrieve the value associated with the `'businesses'` key, and inspect its contents."
   ]
  },
  {
   "cell_type": "code",
   "execution_count": 4,
   "metadata": {},
   "outputs": [
    {
     "data": {
      "text/plain": [
       "[{'id': 'kesYSgOJW5krU6L8n9qQ4Q',\n",
       "  'alias': 'ichibantei-new-york',\n",
       "  'name': 'Ichibantei',\n",
       "  'image_url': 'https://s3-media2.fl.yelpcdn.com/bphoto/syVfmMRovMpJiPXLs4EUyQ/o.jpg',\n",
       "  'is_closed': False,\n",
       "  'url': 'https://www.yelp.com/biz/ichibantei-new-york?adjust_creative=YqgiEbk7hGxxATkl2Llveg&utm_campaign=yelp_api_v3&utm_medium=api_v3_business_search&utm_source=YqgiEbk7hGxxATkl2Llveg',\n",
       "  'review_count': 268,\n",
       "  'categories': [{'alias': 'japanese', 'title': 'Japanese'},\n",
       "   {'alias': 'steak', 'title': 'Steakhouses'}],\n",
       "  'rating': 4.0,\n",
       "  'coordinates': {'latitude': 40.73063, 'longitude': -73.98275},\n",
       "  'transactions': ['pickup', 'delivery'],\n",
       "  'price': '$$',\n",
       "  'location': {'address1': '401 E 13th St',\n",
       "   'address2': '',\n",
       "   'address3': '',\n",
       "   'city': 'New York',\n",
       "   'zip_code': '10009',\n",
       "   'country': 'US',\n",
       "   'state': 'NY',\n",
       "   'display_address': ['401 E 13th St', 'New York, NY 10009']},\n",
       "  'phone': '+16463689755',\n",
       "  'display_phone': '(646) 368-9755',\n",
       "  'distance': 2964.1097984564076},\n",
       " {'id': '-J8VuX3wGrYSOBu2G0hMsw',\n",
       "  'alias': 'katsu-hama-new-york',\n",
       "  'name': 'Katsu-Hama',\n",
       "  'image_url': 'https://s3-media1.fl.yelpcdn.com/bphoto/EyM9THmwyc42F3iY1Gahdw/o.jpg',\n",
       "  'is_closed': False,\n",
       "  'url': 'https://www.yelp.com/biz/katsu-hama-new-york?adjust_creative=YqgiEbk7hGxxATkl2Llveg&utm_campaign=yelp_api_v3&utm_medium=api_v3_business_search&utm_source=YqgiEbk7hGxxATkl2Llveg',\n",
       "  'review_count': 1510,\n",
       "  'categories': [{'alias': 'japanese', 'title': 'Japanese'}],\n",
       "  'rating': 4.0,\n",
       "  'coordinates': {'latitude': 40.75638, 'longitude': -73.97759},\n",
       "  'transactions': ['restaurant_reservation', 'pickup', 'delivery'],\n",
       "  'price': '$$',\n",
       "  'location': {'address1': '11 E 47th St',\n",
       "   'address2': '',\n",
       "   'address3': '',\n",
       "   'city': 'New York',\n",
       "   'zip_code': '10017',\n",
       "   'country': 'US',\n",
       "   'state': 'NY',\n",
       "   'display_address': ['11 E 47th St', 'New York, NY 10017']},\n",
       "  'phone': '+12127585909',\n",
       "  'display_phone': '(212) 758-5909',\n",
       "  'distance': 5841.3064284782295}]"
      ]
     },
     "execution_count": 4,
     "metadata": {},
     "output_type": "execute_result"
    }
   ],
   "source": [
    "# Replace None with appropriate code\n",
    "\n",
    "# Retrieve the value from response_json\n",
    "businesses = response_json[\"businesses\"]\n",
    "\n",
    "# View the first 2 records\n",
    "businesses[:2]"
   ]
  },
  {
   "cell_type": "markdown",
   "metadata": {},
   "source": [
    "### Preparing Data\n",
    "\n",
    "Write a function `prepare_data` that takes in a list of dictionaries like `businesses` and returns a copy that has been prepared for analysis:\n",
    "\n",
    "1. The `coordinates` key-value pair has been converted into two separate key-value pairs, `latitude` and `longitude`\n",
    "2. All other key-value pairs except for `name`, `review_count`, `rating`, and `price` have been dropped\n",
    "3. All dictionaries missing one of the relevant keys or containing null values have been dropped\n",
    "\n",
    "In other words, the final keys for each dictionary should be `name`, `review_count`, `rating`, `price`, `latitude`, and `longitude`.\n",
    "\n",
    "Complete the function in the cell below:"
   ]
  },
  {
   "cell_type": "code",
   "execution_count": 5,
   "metadata": {},
   "outputs": [
    {
     "data": {
      "text/plain": [
       "[{'name': 'Ichibantei',\n",
       "  'review_count': 268,\n",
       "  'rating': 4.0,\n",
       "  'price': '$$',\n",
       "  'latitude': 40.73063,\n",
       "  'longitude': -73.98275},\n",
       " {'name': 'Katsu-Hama',\n",
       "  'review_count': 1510,\n",
       "  'rating': 4.0,\n",
       "  'price': '$$',\n",
       "  'latitude': 40.75638,\n",
       "  'longitude': -73.97759},\n",
       " {'name': 'Tokuyamatcha & Onigirazu Bar',\n",
       "  'review_count': 69,\n",
       "  'rating': 4.5,\n",
       "  'price': '$',\n",
       "  'latitude': 40.72399,\n",
       "  'longitude': -73.9802},\n",
       " {'name': 'Kong Sihk Tong 港食堂',\n",
       "  'review_count': 603,\n",
       "  'rating': 4.0,\n",
       "  'price': '$',\n",
       "  'latitude': 40.715433714742154,\n",
       "  'longitude': -73.9981186386701},\n",
       " {'name': 'Nuan Xin Rice Roll',\n",
       "  'review_count': 49,\n",
       "  'rating': 3.5,\n",
       "  'price': '$',\n",
       "  'latitude': 40.63585,\n",
       "  'longitude': -74.008812}]"
      ]
     },
     "execution_count": 5,
     "metadata": {},
     "output_type": "execute_result"
    }
   ],
   "source": [
    "def prepare_data(data_list):\n",
    "    \"\"\"\n",
    "    This function takes in a list of dictionaries and prepares it\n",
    "    for analysis\n",
    "    \"\"\"\n",
    "    \n",
    "    # Make a new list to hold results\n",
    "    results = []\n",
    "    \n",
    "    for business_data in data_list:\n",
    "    \n",
    "        # Make a new dictionary to hold prepared data for this business\n",
    "        prepared_data = {}\n",
    "        \n",
    "        # Extract name, review_count, rating, and price key-value pairs\n",
    "        # from business_data and add to prepared_data\n",
    "        # If a key is not present in business_data, add it to prepared_data\n",
    "        # with an associated value of None\n",
    "        for key in('name','review_count','rating','price'):\n",
    "            prepared_data[key] = business_data.get(key,None)\n",
    "    \n",
    "        # Parse and add latitude and longitude columns\n",
    "        coord = business_data[\"coordinates\"]\n",
    "        prepared_data[\"latitude\"] = coord[\"latitude\"]\n",
    "        prepared_data[\"longitude\"] = coord[\"longitude\"]\n",
    "        \n",
    "        # Add to list if all values are present\n",
    "        if all(prepared_data.values()):\n",
    "            results.append(prepared_data)\n",
    "    \n",
    "    return results\n",
    "    \n",
    "# Test out function\n",
    "prepared_businesses = prepare_data(businesses)\n",
    "prepared_businesses[:5]"
   ]
  },
  {
   "cell_type": "markdown",
   "metadata": {},
   "source": [
    "Check that your function created the correct keys:"
   ]
  },
  {
   "cell_type": "code",
   "execution_count": 6,
   "metadata": {},
   "outputs": [],
   "source": [
    "# Run this cell without changes\n",
    "\n",
    "assert sorted(list(prepared_businesses[0].keys())) == ['latitude', 'longitude', 'name', 'price', 'rating', 'review_count']"
   ]
  },
  {
   "cell_type": "markdown",
   "metadata": {},
   "source": [
    "The following code will differ depending on your query, but we expect there to be 20 businesses in the original list, and potentially fewer in the prepared list (if any of them were missing data):"
   ]
  },
  {
   "cell_type": "code",
   "execution_count": 7,
   "metadata": {},
   "outputs": [
    {
     "name": "stdout",
     "output_type": "stream",
     "text": [
      "Original: 20\n",
      "Prepared: 15\n"
     ]
    }
   ],
   "source": [
    "# Run this cell without changes\n",
    "print(\"Original:\", len(businesses))\n",
    "print(\"Prepared:\", len(prepared_businesses))"
   ]
  },
  {
   "cell_type": "markdown",
   "metadata": {},
   "source": [
    "Great! We will reuse this function once we have retrieved the full dataset."
   ]
  },
  {
   "cell_type": "markdown",
   "metadata": {},
   "source": [
    "## 2. Add Pagination\n",
    "\n",
    "Now that you are able to extract information from one page of the response, let's figure out how to request as many pages as possible.\n",
    "\n",
    "### Determining the Total\n",
    "\n",
    "Depending on the number of total results for your query, you will either retrieve all of the results, or just the first 1000 (if there are more than 1000 total).\n",
    "\n",
    "We can find the total number of results using the `\"total\"` key:"
   ]
  },
  {
   "cell_type": "code",
   "execution_count": 8,
   "metadata": {},
   "outputs": [
    {
     "data": {
      "text/plain": [
       "20100"
      ]
     },
     "execution_count": 8,
     "metadata": {},
     "output_type": "execute_result"
    }
   ],
   "source": [
    "# Run this cell without changes\n",
    "response_json[\"total\"]"
   ]
  },
  {
   "cell_type": "markdown",
   "metadata": {},
   "source": [
    "(This is specific to the implementation of the Yelp API. Some APIs will just tell you that there are more pages, or will tell you the number of pages total, rather than the total number of results. If you're not sure, always check the documentation.)\n",
    "\n",
    "In the cell below, assign the variable `total` to either the value shown above (if it is less than 1000), or 1000."
   ]
  },
  {
   "cell_type": "code",
   "execution_count": 9,
   "metadata": {},
   "outputs": [],
   "source": [
    "# Replace None with appropriate code\n",
    "total = 1000"
   ]
  },
  {
   "cell_type": "markdown",
   "metadata": {},
   "source": [
    "### Calculating the Offsets\n",
    "\n",
    "The documentation states in the parameters section:\n",
    "\n",
    "> **Name**: `limit`, **Type:** int, **Description:** Optional. Number of business results to return. By default, it will return 20. Maximum is 50.\n",
    "\n",
    "> **Name**: `offset`, **Type:** int, **Description:** Optional. Offset the list of returned business results by this amount.\n",
    "\n",
    "So, to get the most results with the fewest API calls we want to set a limit of 50 every time. If, say, we wanted to get 210 total results, that would mean:\n",
    "\n",
    "1. Offset of `0` (first 50 records)\n",
    "2. Offset of `50` (second 50 records)\n",
    "3. Offset of `100` (third 50 records)\n",
    "4. Offset of `150` (fourth 50 records)\n",
    "5. Offset of `200` (final 10 records)\n",
    "\n",
    "In the cell below, create a function `get_offsets` that takes in a total and returns a list of offsets for that total. You can assume that there is a limit of 50 every time.\n",
    "\n",
    "*Hint: you can use `range` ([documentation here](https://docs.python.org/3.3/library/stdtypes.html?highlight=range#range)) to do this in one line of code. Just make the returned result is a list.*"
   ]
  },
  {
   "cell_type": "code",
   "execution_count": 10,
   "metadata": {},
   "outputs": [],
   "source": [
    "# Replace None with appropriate code\n",
    "def get_offsets(total):\n",
    "    \"\"\"\n",
    "    Get a list of offsets needed to get all pages\n",
    "    of data up until the total\n",
    "    \"\"\"\n",
    "    return list(range(0, total,50))"
   ]
  },
  {
   "cell_type": "markdown",
   "metadata": {},
   "source": [
    "Check that your function works below:"
   ]
  },
  {
   "cell_type": "code",
   "execution_count": 11,
   "metadata": {},
   "outputs": [],
   "source": [
    "# Run this cell without changes\n",
    "\n",
    "assert get_offsets(200) == [0, 50, 100, 150]\n",
    "assert get_offsets(210) == [0, 50, 100, 150, 200]"
   ]
  },
  {
   "cell_type": "markdown",
   "metadata": {},
   "source": [
    "### Putting It All Together\n",
    "\n",
    "Recall that the following variable has already been declared for you:"
   ]
  },
  {
   "cell_type": "code",
   "execution_count": 12,
   "metadata": {},
   "outputs": [
    {
     "data": {
      "text/plain": [
       "{'term': 'Rice', 'location': 'New+York+NY'}"
      ]
     },
     "execution_count": 12,
     "metadata": {},
     "output_type": "execute_result"
    }
   ],
   "source": [
    "# Run this cell without changes\n",
    "url_params"
   ]
  },
  {
   "cell_type": "markdown",
   "metadata": {},
   "source": [
    "We'll go ahead and also specify that the limit should be 50 every time:"
   ]
  },
  {
   "cell_type": "code",
   "execution_count": 13,
   "metadata": {},
   "outputs": [],
   "source": [
    "# Run this cell without changes\n",
    "url_params[\"limit\"] = 50"
   ]
  },
  {
   "cell_type": "markdown",
   "metadata": {},
   "source": [
    "\n",
    "In order to modify the offset, you'll need to add it to `url_params` with the key `\"offset\"` and whatever value is needed.\n",
    "\n",
    "In the cell below, write code that:\n",
    "\n",
    "* Creates an empty list for the full prepared dataset\n",
    "* Loops over all of the offsets from `get_offsets` and makes an API call each time with the specified offset\n",
    "* Calls `prepare_data` to get a cleaned version of the result of each API call\n",
    "* Extends the full prepared dataset list with each query's prepared dataset"
   ]
  },
  {
   "cell_type": "code",
   "execution_count": 14,
   "metadata": {},
   "outputs": [
    {
     "data": {
      "text/plain": [
       "706"
      ]
     },
     "execution_count": 14,
     "metadata": {},
     "output_type": "execute_result"
    }
   ],
   "source": [
    "# Replace None with appropriate code\n",
    "\n",
    "# Create an empty list for the full prepared dataset\n",
    "full_dataset = list()\n",
    "\n",
    "for offset in get_offsets(total):\n",
    "    # Add or update the \"offset\" key-value pair in url_params\n",
    "    url_params[\"offset\"] = offset\n",
    "    \n",
    "    # Make the query and get the response\n",
    "    response = requests.get(url, headers=headers, params=url_params)\n",
    "    \n",
    "    # Get the response body in JSON format\n",
    "    response_json = response.json()\n",
    "    \n",
    "    # Get the list of businesses from the response_json\n",
    "    businesses = response_json[\"businesses\"]\n",
    "    \n",
    "    # Call the prepare_data function to get a list of processed data\n",
    "    prepared_businesses = prepare_data(businesses)\n",
    "    \n",
    "    # Extend full_dataset with this list (don't append, or you'll get\n",
    "    # a list of lists instead of a flat list)\n",
    "    full_dataset.extend(prepared_businesses)\n",
    "\n",
    "# Check the length of the full dataset. It will be up to `total`,\n",
    "# potentially less if there were missing values\n",
    "len(full_dataset)\n"
   ]
  },
  {
   "cell_type": "markdown",
   "metadata": {},
   "source": [
    "This code may take up to a few minutes to run.\n",
    "\n",
    "If you get an error trying to get the response body in JSON format, try adding `time.sleep(1)` right after the `requests.get` line, so your code will sleep for 1 second between each API call."
   ]
  },
  {
   "cell_type": "markdown",
   "metadata": {},
   "source": [
    "## 3. Perform Exploratory Analysis\n",
    "\n",
    "Take the businesses from the previous question and do an initial exploratory analysis. We have provided some plots for you to interpret:"
   ]
  },
  {
   "cell_type": "code",
   "execution_count": 15,
   "metadata": {},
   "outputs": [
    {
     "data": {
      "image/png": "[encoded data removed]",
      "text/plain": [
       "<Figure size 1152x360 with 3 Axes>"
      ]
     },
     "metadata": {
      "needs_background": "light"
     },
     "output_type": "display_data"
    }
   ],
   "source": [
    "# Run this cell without changes\n",
    "from collections import Counter\n",
    "import matplotlib.pyplot as plt\n",
    "%matplotlib inline\n",
    "\n",
    "fig, (ax1, ax2, ax3) = plt.subplots(ncols=3, figsize=(16, 5))\n",
    "\n",
    "# Plot distribution of number of reviews\n",
    "all_review_counts = [x[\"review_count\"] for x in full_dataset]\n",
    "ax1.hist(all_review_counts)\n",
    "ax1.set_title(\"Review Count Distribution\")\n",
    "ax1.set_xlabel(\"Number of Reviews\")\n",
    "ax1.set_ylabel(\"Number of Businesses\")\n",
    "\n",
    "# Plot rating distribution\n",
    "all_ratings = [x[\"rating\"] for x in full_dataset]\n",
    "rating_counter = Counter(all_ratings)\n",
    "rating_keys = sorted(rating_counter.keys())\n",
    "ax2.bar(rating_keys, [rating_counter[key] for key in rating_keys])\n",
    "ax2.set_title(\"Rating Distribution\")\n",
    "ax2.set_xlabel(\"Rating\")\n",
    "ax2.set_ylabel(\"Number of Businesses\")\n",
    "\n",
    "# Plot price distribution\n",
    "all_prices = [x[\"price\"].replace(\"$\", r\"\\$\") for x in full_dataset]\n",
    "price_counter = Counter(all_prices)\n",
    "price_keys = sorted(price_counter.keys())\n",
    "ax3.bar(price_keys, [price_counter[key] for key in price_keys])\n",
    "ax3.set_title(\"Price Distribution\")\n",
    "ax3.set_xlabel(\"Price Category\")\n",
    "ax3.set_ylabel(\"Number of Businesses\");"
   ]
  },
  {
   "cell_type": "markdown",
   "metadata": {},
   "source": [
    "Describe the distributions displayed above and interpret them in the context of your query. (Your answer may differ from the solution branch depending on your query.)"
   ]
  },
  {
   "cell_type": "code",
   "execution_count": 16,
   "metadata": {},
   "outputs": [
    {
     "data": {
      "text/plain": [
       "'\\nThe first graph is positively skewed while the rating graph is negatively skewed.\\n'"
      ]
     },
     "execution_count": 16,
     "metadata": {},
     "output_type": "execute_result"
    }
   ],
   "source": [
    "# Replace None with appropriate text\n",
    "\"\"\"\n",
    "The first graph is positively skewed while the rating graph is negatively skewed.\n",
    "\"\"\""
   ]
  },
  {
   "cell_type": "markdown",
   "metadata": {},
   "source": [
    "In the cell below, we also plot the rating distributions by price. In this setup, a price of one dollar sign is \"lower price\" and everything else is \"higher price\"."
   ]
  },
  {
   "cell_type": "code",
   "execution_count": 17,
   "metadata": {},
   "outputs": [
    {
     "data": {
      "image/png": "[encoded data removed]",
      "text/plain": [
       "<Figure size 432x288 with 1 Axes>"
      ]
     },
     "metadata": {
      "needs_background": "light"
     },
     "output_type": "display_data"
    }
   ],
   "source": [
    "# Run this cell without changes\n",
    "\n",
    "higher_price = []\n",
    "lower_price = []\n",
    "for row in full_dataset:\n",
    "    if row[\"price\"] == \"$\":\n",
    "        lower_price.append(row[\"rating\"])\n",
    "    else:\n",
    "        higher_price.append(row[\"rating\"])\n",
    "        \n",
    "fig, ax = plt.subplots()\n",
    "\n",
    "ax.hist([higher_price, lower_price], label=[\"higher price\", \"lower price\"], density=True)\n",
    "\n",
    "ax.legend();"
   ]
  },
  {
   "cell_type": "markdown",
   "metadata": {},
   "source": [
    "Is a higher price associated with a higher rating? (No need for any additional math/statistics, just interpret what you see in the plot.)"
   ]
  },
  {
   "cell_type": "code",
   "execution_count": 18,
   "metadata": {},
   "outputs": [
    {
     "data": {
      "text/plain": [
       "'\\nyes a higher rating attracts a  higher price\\n'"
      ]
     },
     "execution_count": 18,
     "metadata": {},
     "output_type": "execute_result"
    }
   ],
   "source": [
    "# Replace None with appropriate text\n",
    "\"\"\"\n",
    "yes a higher rating attracts a  higher price\n",
    "\"\"\""
   ]
  },
  {
   "cell_type": "markdown",
   "metadata": {},
   "source": [
    "Finally, let's look at ratings vs. review counts:"
   ]
  },
  {
   "cell_type": "code",
   "execution_count": 19,
   "metadata": {},
   "outputs": [
    {
     "data": {
      "image/png": "[encoded data removed]",
      "text/plain": [
       "<Figure size 1152x360 with 1 Axes>"
      ]
     },
     "metadata": {
      "needs_background": "light"
     },
     "output_type": "display_data"
    }
   ],
   "source": [
    "# Run this cell without changes\n",
    "fig, ax = plt.subplots(figsize=(16,5))\n",
    "\n",
    "ax.scatter(all_review_counts, all_ratings, alpha=0.2)\n",
    "ax.set_xlabel(\"Number of Reviews\")\n",
    "ax.set_ylabel(\"Rating\")\n",
    "# \"zoom in\" to a subset of review counts\n",
    "ax.set_xlim(left=0, right=1000);"
   ]
  },
  {
   "cell_type": "markdown",
   "metadata": {},
   "source": [
    "Is a higher number of reviews associated with a higher rating?"
   ]
  },
  {
   "cell_type": "code",
   "execution_count": 20,
   "metadata": {},
   "outputs": [
    {
     "data": {
      "text/plain": [
       "'\\nThe higher the number of reviews the higher the rating the lower the number of reviews the higher the rating\\n'"
      ]
     },
     "execution_count": 20,
     "metadata": {},
     "output_type": "execute_result"
    }
   ],
   "source": [
    "# Replace None with appropriate text\n",
    "\"\"\"\n",
    "The higher the number of reviews the higher the rating the lower the number of reviews the higher the rating\n",
    "\"\"\""
   ]
  },
  {
   "cell_type": "markdown",
   "metadata": {},
   "source": [
    "## 4. Create a Folium Map\n",
    "\n",
    "Make a map using Folium of the businesses you retrieved. Be sure to also add popups to the markers giving some basic information such as name, rating and price.\n",
    "\n",
    "You can center the map around the latitude and longitude of the first item in `full_dataset`."
   ]
  },
  {
   "cell_type": "code",
   "execution_count": 21,
   "metadata": {},
   "outputs": [
    {
     "data": {
      "text/html": [
       "<div style=\"width:100%;\"><div style=\"position:relative;width:100%;height:0;padding-bottom:60%;\"><span style=\"color:#565656\">Make this Notebook Trusted to load map: File -> Trust Notebook</span><iframe src=\"about:blank\" style=\"position:absolute;width:100%;height:100%;left:0;top:0;border:none !important;\" data-html=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 onload=\"this.contentDocument.open();this.contentDocument.write(atob(this.getAttribute('data-html')));this.contentDocument.close();\" allowfullscreen webkitallowfullscreen mozallowfullscreen></iframe></div></div>"
      ],
      "text/plain": [
       "<folium.folium.Map at 0x2212681ef70>"
      ]
     },
     "execution_count": 21,
     "metadata": {},
     "output_type": "execute_result"
    }
   ],
   "source": [
    "# Replace None with appropriate code\n",
    "\n",
    "# Import the library\n",
    "import folium\n",
    "\n",
    "# Set up center latitude and longitude\n",
    "center_lat = full_dataset[0][\"latitude\"]\n",
    "center_long = full_dataset[0][\"longitude\"]\n",
    "\n",
    "# Initialize map with center lat and long\n",
    "yelp_map = folium.Map([center_lat,center_long],zoom_start=20)\n",
    "\n",
    "# Adjust this limit to see more or fewer businesses\n",
    "limit=100\n",
    "\n",
    "for business in full_dataset[:limit]:\n",
    "    # Extract information about business\n",
    "    lat = business[\"latitude\"]\n",
    "    long = business[\"longitude\"]\n",
    "    name = business[\"name\"]\n",
    "    rating = business[\"rating\"]\n",
    "    price = business[\"price\"]\n",
    "    details = \"{}\\nPrice: {} Rating:{}\".format(name,price,rating)\n",
    "    \n",
    "    # Create popup with relevant details\n",
    "    popup = folium.Popup(details)\n",
    "    \n",
    "    # Create marker with relevant lat/long and popup\n",
    "    marker = folium.Marker(location=[lat, long], popup=popup)\n",
    "    \n",
    "    marker.add_to(yelp_map)\n",
    "    \n",
    "yelp_map"
   ]
  },
  {
   "cell_type": "markdown",
   "metadata": {},
   "source": [
    "## Summary\n",
    "\n",
    "Nice work! In this lab, you've made multiple API calls to Yelp in order to paginate through a results set, performing some basic exploratory analysis and then creating a nice interactive map to display the results using Folium! Well done!"
   ]
  }
 ],
 "metadata": {
  "kernelspec": {
   "display_name": "Python 3",
   "language": "python",
   "name": "python3"
  },
  "language_info": {
   "codemirror_mode": {
    "name": "ipython",
    "version": 3
   },
   "file_extension": ".py",
   "mimetype": "text/x-python",
   "name": "python",
   "nbconvert_exporter": "python",
   "pygments_lexer": "ipython3",
   "version": "3.8.5"
  },
  "toc": {
   "base_numbering": 1,
   "nav_menu": {},
   "number_sections": true,
   "sideBar": true,
   "skip_h1_title": false,
   "title_cell": "Table of Contents",
   "title_sidebar": "Contents",
   "toc_cell": false,
   "toc_position": {},
   "toc_section_display": true,
   "toc_window_display": false
  }
 },
 "nbformat": 4,
 "nbformat_minor": 2
}
